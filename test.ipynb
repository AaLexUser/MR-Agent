{
 "cells": [
  {
   "cell_type": "code",
   "execution_count": 1,
   "metadata": {},
   "outputs": [
    {
     "name": "stdout",
     "output_type": "stream",
     "text": [
      "main\n",
      "not-worked\n",
      "not-working-2\n"
     ]
    }
   ],
   "source": [
    "from github import Auth, Github\n",
    "from dotenv import load_dotenv\n",
    "import os\n",
    "\n",
    "load_dotenv()\n",
    "\n",
    "token = os.getenv(\"GITHUB_TOKEN\")\n",
    "\n",
    "github = Github(auth=Auth.Token(token))\n",
    "\n",
    "repo = github.get_repo(\"AaLexUser/Data-annotation-service\")\n",
    "for branch in repo.get_branches():\n",
    "    print(branch.name)"
   ]
  },
  {
   "cell_type": "code",
   "execution_count": 8,
   "metadata": {},
   "outputs": [
    {
     "data": {
      "text/plain": [
       "'https://github.com/AaLexUser/Data-annotation-service/blob/dfe7f95988e56989612710b56c5191ec1e8e11b2/backend%2Fsrc%2Fmain%2Fjava%2Forg%2Ftix%2Fbackend%2Fcontroller%2FEducationalController.java'"
      ]
     },
     "execution_count": 8,
     "metadata": {},
     "output_type": "execute_result"
    }
   ],
   "source": [
    "repo.get_commits()[10].files[2].blob_url\n",
    "  \n"
   ]
  },
  {
   "cell_type": "code",
   "execution_count": 5,
   "metadata": {},
   "outputs": [
    {
     "data": {
      "text/plain": [
       "Repository(full_name=\"PyGithub/PyGithub\")"
      ]
     },
     "execution_count": 5,
     "metadata": {},
     "output_type": "execute_result"
    }
   ],
   "source": [
    "github = Github(auth=Auth.Token(token))\n",
    "repo = github.get_repo(\"PyGithub/PyGithub\")\n",
    "repo"
   ]
  },
  {
   "cell_type": "code",
   "execution_count": 7,
   "metadata": {},
   "outputs": [
    {
     "name": "stdout",
     "output_type": "stream",
     "text": [
      "JLLeitschuh-patch-1\n",
      "dependabot/github_actions/actions/setup-python-5\n",
      "dependabot/github_actions/codecov/codecov-action-5\n",
      "dependabot/github_actions/dawidd6/action-download-artifact-3.1.4\n",
      "dependabot/github_actions/liskin/gh-problem-matcher-wrap-3\n",
      "dependabot/pip/jinja2-lt-3.2\n",
      "dependabot/pip/requirements/pip-23b04c1fc7\n",
      "dependabot/pip/sphinx-lt-8\n",
      "dependabot/pip/sphinx-rtd-theme-lt-3.1\n",
      "fix_get_check_runs\n",
      "integrations\n",
      "main\n",
      "openapi/main\n",
      "pascal-hofmann-patch-1\n",
      "release-notes\n",
      "release-v1-54\n",
      "release-v1-58\n",
      "release-v1-59\n",
      "release-v2-0\n",
      "release-v2-6\n",
      "topic/RewriteWithGeneratedCode\n"
     ]
    }
   ],
   "source": [
    "for branch in repo.get_branches():\n",
    "    print(branch.name)\n"
   ]
  }
 ],
 "metadata": {
  "kernelspec": {
   "display_name": ".venv",
   "language": "python",
   "name": "python3"
  },
  "language_info": {
   "codemirror_mode": {
    "name": "ipython",
    "version": 3
   },
   "file_extension": ".py",
   "mimetype": "text/x-python",
   "name": "python",
   "nbconvert_exporter": "python",
   "pygments_lexer": "ipython3",
   "version": "3.12.2"
  }
 },
 "nbformat": 4,
 "nbformat_minor": 2
}
