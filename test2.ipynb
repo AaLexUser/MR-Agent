{
 "cells": [
  {
   "cell_type": "code",
   "execution_count": null,
   "metadata": {},
   "outputs": [],
   "source": [
    "from github import Auth, Github\n",
    "from dotenv import load_dotenv\n",
    "import os\n",
    "\n",
    "load_dotenv()\n",
    "\n",
    "token = os.getenv(\"GITHUB_TOKEN\")\n",
    "\n",
    "github = Github(auth=Auth.Token(token))\n",
    "\n",
    "repo = github.get_repo(\"aimclub/FEDOT.LLM\")\n",
    "pr = repo.get_pulls(state=\"closed\", head=\"user:aalexuser\")\n",
    "files = list(pr.get_files())\n",
    "pr_commits = list(pr.get_commits())\n",
    "\n",
    "len(pr_commits)"
   ]
  },
  {
   "cell_type": "code",
   "execution_count": 12,
   "metadata": {},
   "outputs": [
    {
     "name": "stdout",
     "output_type": "stream",
     "text": [
      "2025-02-22 19:23:21+00:00\n",
      "2025-01-19 17:19:50+00:00\n",
      "2025-01-14 08:33:06+00:00\n",
      "2024-12-13 21:26:45+00:00\n",
      "2025-02-08 19:00:41+00:00\n",
      "2025-02-08 19:00:39+00:00\n",
      "2024-12-27 16:29:15+00:00\n",
      "2024-10-03 10:31:13+00:00\n",
      "2024-09-10 22:53:41+00:00\n",
      "2024-08-26 10:43:29+00:00\n",
      "2024-08-14 19:22:43+00:00\n",
      "2024-11-19 17:15:45+00:00\n",
      "2024-10-03 12:05:08+00:00\n",
      "2024-10-03 11:30:54+00:00\n",
      "2024-09-18 16:58:35+00:00\n",
      "2024-09-10 12:59:13+00:00\n",
      "2024-08-08 12:54:05+00:00\n",
      "2024-07-30 13:15:43+00:00\n"
     ]
    }
   ],
   "source": [
    "from github import Auth, Github\n",
    "from dotenv import load_dotenv\n",
    "import os\n",
    "\n",
    "load_dotenv()\n",
    "\n",
    "token = os.getenv(\"GITHUB_TOKEN\")\n",
    "\n",
    "github = Github(auth=Auth.Token(token))\n",
    "\n",
    "repo = github.get_repo(\"aimclub/FEDOT.LLM\")\n",
    "prs = list(repo.get_pulls(state=\"closed\", head=\"aalexuser\", sort=\"updated\", direction=\"desc\"))\n",
    "for pr in prs:\n",
    "    if pr.closed_at:\n",
    "        print(pr.closed_at)"
   ]
  },
  {
   "cell_type": "code",
   "execution_count": 11,
   "metadata": {},
   "outputs": [
    {
     "name": "stdout",
     "output_type": "stream",
     "text": [
      "['aimclub', 'FEDOT.LLM']\n"
     ]
    },
    {
     "data": {
      "text/plain": [
       "'aimclub/FEDOT.LLM'"
      ]
     },
     "execution_count": 11,
     "metadata": {},
     "output_type": "execute_result"
    }
   ],
   "source": [
    "from urllib.parse import urlparse\n",
    "from typing import Tuple\n",
    "\n",
    "def _parse_repo_url(pr_url: str) -> Tuple[str, int]:\n",
    "        parsed_url = urlparse(pr_url)\n",
    "\n",
    "        if parsed_url.path.startswith(\"/api/v3\"):\n",
    "            parsed_url = urlparse(pr_url.replace(\"/api/v3\", \"\"))\n",
    "\n",
    "        path_parts = parsed_url.path.strip(\"/\").split(\"/\")\n",
    "        print(path_parts)\n",
    "        if len(path_parts) < 2:\n",
    "            raise ValueError(\"The provided URL does not appear to be a GitHub URL\")\n",
    "\n",
    "        repo_name = \"/\".join(path_parts[:2])\n",
    "        return repo_name\n",
    "    \n",
    "_parse_pr_url(\"https://github.com/aimclub/FEDOT.LLM\")"
   ]
  }
 ],
 "metadata": {
  "kernelspec": {
   "display_name": ".venv",
   "language": "python",
   "name": "python3"
  },
  "language_info": {
   "codemirror_mode": {
    "name": "ipython",
    "version": 3
   },
   "file_extension": ".py",
   "mimetype": "text/x-python",
   "name": "python",
   "nbconvert_exporter": "python",
   "pygments_lexer": "ipython3",
   "version": "3.12.2"
  }
 },
 "nbformat": 4,
 "nbformat_minor": 2
}
